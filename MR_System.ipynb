{
  "nbformat": 4,
  "nbformat_minor": 0,
  "metadata": {
    "colab": {
      "provenance": [],
      "authorship_tag": "ABX9TyO5y2VNg98WF3k1+Hq1vGDn",
      "include_colab_link": true
    },
    "kernelspec": {
      "name": "python3",
      "display_name": "Python 3"
    },
    "language_info": {
      "name": "python"
    }
  },
  "cells": [
    {
      "cell_type": "markdown",
      "metadata": {
        "id": "view-in-github",
        "colab_type": "text"
      },
      "source": [
        "<a href=\"https://colab.research.google.com/github/mohammedaadhilkma/Movie-Recommendation-System/blob/main/MR_System.ipynb\" target=\"_parent\"><img src=\"https://colab.research.google.com/assets/colab-badge.svg\" alt=\"Open In Colab\"/></a>"
      ]
    },
    {
      "cell_type": "code",
      "execution_count": null,
      "metadata": {
        "id": "pckeVzMqheRD"
      },
      "outputs": [],
      "source": [
        "from google.colab import drive\n",
        "drive.mount ('/content/drive')"
      ]
    },
    {
      "cell_type": "code",
      "source": [
        "file_path='/content/drive/MyDrive/Dataset/movies.csv'"
      ],
      "metadata": {
        "id": "yBHUzue7h5JS"
      },
      "execution_count": 51,
      "outputs": []
    },
    {
      "cell_type": "code",
      "source": [
        "import pandas as pd\n",
        "movies = pd.read_csv(file_path)\n",
        "movies"
      ],
      "metadata": {
        "id": "xxMi1N5DkDsK"
      },
      "execution_count": null,
      "outputs": []
    },
    {
      "cell_type": "code",
      "source": [
        "import re\n",
        "\n",
        "def clean_title(title):\n",
        "    title = re.sub(\"[^a-zA-Z0-9 ]\", \"\", title)\n",
        "    return title"
      ],
      "metadata": {
        "id": "eJCYaPKdlOyA"
      },
      "execution_count": 53,
      "outputs": []
    },
    {
      "cell_type": "code",
      "source": [
        "movies[\"clean_title\"] = movies[\"title\"].apply(clean_title)"
      ],
      "metadata": {
        "id": "ZUJ1-YFlmCZj"
      },
      "execution_count": 54,
      "outputs": []
    },
    {
      "cell_type": "code",
      "source": [
        "movies"
      ],
      "metadata": {
        "id": "ulDjmB8rmdVx"
      },
      "execution_count": null,
      "outputs": []
    },
    {
      "cell_type": "code",
      "source": [
        "from sklearn.feature_extraction.text import TfidfVectorizer\n",
        "vectorizer = TfidfVectorizer(ngram_range=(1,2))\n",
        "\n",
        "tfidf = vectorizer.fit_transform(movies[\"clean_title\"])"
      ],
      "metadata": {
        "id": "YWGMxthRmsvB"
      },
      "execution_count": 56,
      "outputs": []
    },
    {
      "cell_type": "code",
      "source": [
        "from sklearn.metrics.pairwise import cosine_similarity\n",
        "import numpy as np\n",
        "def search(title):\n",
        "  title = clean_title(title)\n",
        "  query_vec = vectorizer.transform([title])\n",
        "  similarity = cosine_similarity(query_vec, tfidf).flatten()\n",
        "  indices = np.argpartition(similarity, -5)[-5:]\n",
        "  results = movies.iloc[indices].iloc[::-1]\n",
        "  return results"
      ],
      "metadata": {
        "id": "Dew3eZNBnEyG"
      },
      "execution_count": 57,
      "outputs": []
    },
    {
      "cell_type": "code",
      "source": [
        "import ipywidgets as widgets\n",
        "from IPython.display import display\n",
        "\n",
        "movie_input = widgets.Text(\n",
        "    value=\"Toy Story\",\n",
        "    description='Movie Title:',\n",
        "    disabled=False\n",
        ")\n",
        "movie_list = widgets.Output()\n",
        "\n",
        "def on_type(data):\n",
        "    with movie_list:\n",
        "        movie_list.clear_output()\n",
        "        display(data)\n",
        "        title = data[\"new\"]\n",
        "        if len(title) > 5:\n",
        "            display(search(title))\n",
        "\n",
        "movie_input.observe(on_type, names=\"value\")\n",
        "\n",
        "\n",
        "display(movie_input, movie_list)"
      ],
      "metadata": {
        "id": "fZgyA2waobWv"
      },
      "execution_count": null,
      "outputs": []
    },
    {
      "cell_type": "code",
      "source": [
        "ratings = pd.read_csv('/content/drive/MyDrive/Dataset/ratings.csv')"
      ],
      "metadata": {
        "id": "jo-JIWSZz0wz"
      },
      "execution_count": 63,
      "outputs": []
    },
    {
      "cell_type": "code",
      "source": [
        "ratings"
      ],
      "metadata": {
        "id": "NpuX5Iv441Zn"
      },
      "execution_count": null,
      "outputs": []
    },
    {
      "cell_type": "code",
      "source": [
        "ratings.dtypes"
      ],
      "metadata": {
        "id": "ej6K-pew6D3f"
      },
      "execution_count": null,
      "outputs": []
    },
    {
      "cell_type": "code",
      "source": [
        "movie_id = 1"
      ],
      "metadata": {
        "id": "i4arP_Er6Ba8"
      },
      "execution_count": 66,
      "outputs": []
    },
    {
      "cell_type": "code",
      "source": [
        "similar_users = ratings[(ratings[\"movieId\"] == movie_id) & (ratings[\"rating\"] > 4)][\"userId\"].unique()"
      ],
      "metadata": {
        "id": "oyrNCkqK46iq"
      },
      "execution_count": 67,
      "outputs": []
    },
    {
      "cell_type": "code",
      "source": [
        "similar_users"
      ],
      "metadata": {
        "id": "RAsfk-Ic5mYd"
      },
      "execution_count": null,
      "outputs": []
    },
    {
      "cell_type": "code",
      "source": [
        "similar_users_recs = ratings[(ratings[\"userId\"].isin(similar_users)) & (ratings[\"rating\"] > 4)][\"movieId\"]"
      ],
      "metadata": {
        "id": "0p3FPaF66coY"
      },
      "execution_count": 69,
      "outputs": []
    },
    {
      "cell_type": "code",
      "source": [
        "similar_users_recs"
      ],
      "metadata": {
        "id": "vmYc8Evy670b"
      },
      "execution_count": null,
      "outputs": []
    },
    {
      "cell_type": "code",
      "source": [
        "similar_users_recs = similar_users_recs.value_counts() / len(similar_users)\n",
        "similar_users_recs = similar_users_recs[similar_users_recs > .1]"
      ],
      "metadata": {
        "id": "YIEW8rdT7Jfe"
      },
      "execution_count": 71,
      "outputs": []
    },
    {
      "cell_type": "code",
      "source": [
        "similar_users_recs"
      ],
      "metadata": {
        "id": "YTTVV0wT7gG6"
      },
      "execution_count": null,
      "outputs": []
    },
    {
      "cell_type": "code",
      "source": [
        "all_users = ratings[(ratings[\"movieId\"].isin(similar_users_recs.index)) & (ratings[\"rating\"] > 4)]"
      ],
      "metadata": {
        "id": "ghzcEF3H766Y"
      },
      "execution_count": 73,
      "outputs": []
    },
    {
      "cell_type": "code",
      "source": [
        "all_users_recs = all_users[\"movieId\"].value_counts() / len(all_users[\"userId\"].unique())"
      ],
      "metadata": {
        "id": "RlbWWi3xU2Qa"
      },
      "execution_count": 74,
      "outputs": []
    },
    {
      "cell_type": "code",
      "source": [
        "all_users_recs"
      ],
      "metadata": {
        "id": "e27KxK2yVwii"
      },
      "execution_count": null,
      "outputs": []
    },
    {
      "cell_type": "code",
      "source": [
        "rec_persentages = pd.concat([similar_users_recs, all_users_recs], axis=1)\n",
        "rec_persentages.columns = [\"similar\", \"all\"]"
      ],
      "metadata": {
        "id": "GhzSmlqrWKEI"
      },
      "execution_count": 77,
      "outputs": []
    },
    {
      "cell_type": "code",
      "source": [
        "rec_persentages"
      ],
      "metadata": {
        "id": "RBDF0twIWZgL"
      },
      "execution_count": null,
      "outputs": []
    },
    {
      "cell_type": "code",
      "source": [
        "rec_persentages[\"score\"] = rec_persentages[\"similar\"] / rec_persentages[\"all\"]"
      ],
      "metadata": {
        "id": "xFVu6S5hWdIN"
      },
      "execution_count": 79,
      "outputs": []
    },
    {
      "cell_type": "code",
      "source": [
        "rec_persentages = rec_persentages.sort_values(\"score\", ascending=False)"
      ],
      "metadata": {
        "id": "M2ru85W_WlwV"
      },
      "execution_count": 80,
      "outputs": []
    },
    {
      "cell_type": "code",
      "source": [
        "rec_persentages"
      ],
      "metadata": {
        "id": "y7CikZb4Wpi9"
      },
      "execution_count": null,
      "outputs": []
    },
    {
      "cell_type": "code",
      "source": [
        "rec_persentages.head(10).merge(movies, left_index=True, right_on=\"movieId\")\n"
      ],
      "metadata": {
        "id": "KL7SSjlMWs4c"
      },
      "execution_count": null,
      "outputs": []
    },
    {
      "cell_type": "code",
      "source": [
        "def find_similar_movies(movie_id):\n",
        "    similar_users = ratings[(ratings[\"movieId\"] == movie_id) & (ratings[\"rating\"] > 4)][\"userId\"].unique()\n",
        "    similar_users_recs = ratings[(ratings[\"userId\"].isin(similar_users)) & (ratings[\"rating\"] > 4)][\"movieId\"] # This line has been corrected\n",
        "    similar_users_recs = similar_users_recs.value_counts() / len(similar_users)\n",
        "    similar_users_recs = similar_users_recs[similar_users_recs > .10]\n",
        "    all_users = ratings[(ratings[\"movieId\"].isin(similar_users_recs.index)) & (ratings[\"rating\"] > 4)]\n",
        "    all_user_recs = all_users[\"movieId\"].value_counts() / len(all_users[\"userId\"].unique())\n",
        "    rec_percentages = pd.concat([similar_users_recs, all_user_recs], axis=1)\n",
        "    rec_percentages.columns = [\"similar\", \"all\"]\n",
        "    rec_percentages[\"score\"] = rec_percentages[\"similar\"] / rec_percentages[\"all\"]\n",
        "    rec_percentages = rec_percentages.sort_values(\"score\", ascending=False)\n",
        "    return rec_percentages.head(10).merge(movies, left_index=True, right_on=\"movieId\")[[\"score\", \"title\", \"genres\"]]"
      ],
      "metadata": {
        "id": "yuBLsBgiW5Dd"
      },
      "execution_count": 83,
      "outputs": []
    },
    {
      "cell_type": "code",
      "source": [
        "movie_name_input = widgets.Text(\n",
        "    value='Toy Story',\n",
        "    description='Movie Title:',\n",
        "    disabled=False\n",
        ")\n",
        "recommendation_list = widgets.Output()\n",
        "\n",
        "def on_type(data):\n",
        "    with recommendation_list:\n",
        "        recommendation_list.clear_output()\n",
        "        title = data[\"new\"]\n",
        "        if len(title) > 5:\n",
        "            results = search(title)\n",
        "            movie_id = results.iloc[0][\"movieId\"]\n",
        "            display(find_similar_movies(movie_id))\n",
        "movie_name_input.observe(on_type, names='value')\n",
        "\n",
        "display(movie_name_input, recommendation_list)"
      ],
      "metadata": {
        "id": "pFkz_647Xx-o"
      },
      "execution_count": null,
      "outputs": []
    }
  ]
}